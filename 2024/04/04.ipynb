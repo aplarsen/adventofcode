{
 "cells": [
  {
   "cell_type": "code",
   "execution_count": 1,
   "metadata": {},
   "outputs": [],
   "source": [
    "with open( 'input.txt' ) as f:\n",
    "    input = []\n",
    "\n",
    "    for row in f.read().split('\\n'):\n",
    "        input.append( list(row) )\n",
    "\n",
    "width=len(input[0])\n",
    "height=len(input)"
   ]
  },
  {
   "cell_type": "code",
   "execution_count": 2,
   "metadata": {},
   "outputs": [],
   "source": [
    "from itertools import product\n",
    "import numpy as np"
   ]
  },
  {
   "cell_type": "code",
   "execution_count": null,
   "metadata": {},
   "outputs": [
    {
     "data": {
      "text/plain": [
       "2493"
      ]
     },
     "execution_count": 3,
     "metadata": {},
     "output_type": "execute_result"
    }
   ],
   "source": [
    "# Part 1\n",
    "count = 0\n",
    "\n",
    "for row in range(height):\n",
    "    for col in range(width):\n",
    "\n",
    "        start = np.array( (row, col) )\n",
    "\n",
    "        for vector in product( (-1,0,1), repeat=2 ):\n",
    "            position = start\n",
    "\n",
    "            chars = []\n",
    "\n",
    "            for i in range(4):\n",
    "                if position[0] >= 0 and position[0] < height and position[1] >= 0 and position[1] < width:\n",
    "                    chars.append( input[ position[0] ][ position[1] ] )\n",
    "\n",
    "                    position = position + np.array(vector)\n",
    "\n",
    "            if chars == ['X', 'M', 'A', 'S']:\n",
    "                count += 1\n",
    "\n",
    "count"
   ]
  },
  {
   "cell_type": "code",
   "execution_count": 4,
   "metadata": {},
   "outputs": [
    {
     "data": {
      "text/plain": [
       "1890"
      ]
     },
     "execution_count": 4,
     "metadata": {},
     "output_type": "execute_result"
    }
   ],
   "source": [
    "# Part 2\n",
    "\n",
    "count = 0\n",
    "\n",
    "for row in range(height):\n",
    "    for col in range(width):\n",
    "\n",
    "        start = np.array( (row, col) )\n",
    "        legs = 0\n",
    "        \n",
    "        # Skip the zeros since everything is a diagonal\n",
    "        for vector in product( (-1,1), repeat=2 ):\n",
    "            chars = []\n",
    "            \n",
    "            # Loop through the vector, the start position, and the inverted vector\n",
    "            for direction in [1, 0, -1]:\n",
    "                # Move in this direction\n",
    "                position = start + direction*np.array(vector)\n",
    "\n",
    "                # Check bounds and append character\n",
    "                if position[0] >= 0 and position[0] < height and position[1] >= 0 and position[1] < width:\n",
    "                    chars.append( input[ position[0] ][ position[1] ] )\n",
    "\n",
    "                # Check if this leg is MAS\n",
    "                if chars == ['M', 'A', 'S']:\n",
    "                    legs += 1\n",
    "        \n",
    "        # If two of the legs are MAS, this is an X-MAS\n",
    "        if legs >= 2:\n",
    "            count +=1\n",
    "\n",
    "count"
   ]
  }
 ],
 "metadata": {
  "kernelspec": {
   "display_name": "Python 3",
   "language": "python",
   "name": "python3"
  },
  "language_info": {
   "codemirror_mode": {
    "name": "ipython",
    "version": 3
   },
   "file_extension": ".py",
   "mimetype": "text/x-python",
   "name": "python",
   "nbconvert_exporter": "python",
   "pygments_lexer": "ipython3",
   "version": "3.11.7"
  }
 },
 "nbformat": 4,
 "nbformat_minor": 2
}
