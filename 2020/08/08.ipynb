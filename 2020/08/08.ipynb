{
 "metadata": {
  "language_info": {
   "codemirror_mode": {
    "name": "ipython",
    "version": 3
   },
   "file_extension": ".py",
   "mimetype": "text/x-python",
   "name": "python",
   "nbconvert_exporter": "python",
   "pygments_lexer": "ipython3",
   "version": "3.9.1-final"
  },
  "orig_nbformat": 2,
  "kernelspec": {
   "name": "python3",
   "display_name": "Python 3",
   "language": "python"
  }
 },
 "nbformat": 4,
 "nbformat_minor": 2,
 "cells": [
  {
   "cell_type": "code",
   "execution_count": 1,
   "metadata": {},
   "outputs": [],
   "source": [
    "# Function for reading instructions from a file into a list\n",
    "def read_instructions(file):\n",
    "    with open(file) as f:\n",
    "        instructions = [ dict(zip(['operator', 'operand', 'visited'], instruction.split(\" \") + [False] )) for instruction in f.read().split(\"\\n\")]\n",
    "    \n",
    "    return instructions"
   ]
  },
  {
   "cell_type": "code",
   "execution_count": 2,
   "metadata": {},
   "outputs": [],
   "source": [
    "# Computer function.  Will \"throw\" an error when infinite loop is found or return the final values of the iterator and accumulator.\n",
    "def compute(instructions):\n",
    "    acc = 0\n",
    "    i = 0\n",
    "\n",
    "    while True:\n",
    "        if instructions[i]['visited']:\n",
    "            return {\"status\": \"Loop!\", \"instruction\": i, \"accumulator\": acc}\n",
    "\n",
    "        instructions[i]['visited'] = True\n",
    "\n",
    "        if instructions[i]['operator'] == 'nop':\n",
    "            i = i + 1\n",
    "            continue\n",
    "\n",
    "        if instructions[i]['operator'] == \"acc\":\n",
    "            acc = acc + eval(instructions[i]['operand'])\n",
    "            i = i + 1\n",
    "            if i > len(instructions)-1: return {\"status\": \"Completed\", \"instruction\": i, \"accumulator\": acc}\n",
    "            continue\n",
    "\n",
    "        if instructions[i]['operator'] == 'jmp':\n",
    "            i = i + eval(instructions[i]['operand'])\n",
    "            if i > len(instructions)-1: return {\"status\": \"Completed\", \"instruction\": i, \"accumulator\": acc}\n",
    "            continue"
   ]
  },
  {
   "cell_type": "code",
   "execution_count": 3,
   "metadata": {},
   "outputs": [
    {
     "output_type": "execute_result",
     "data": {
      "text/plain": [
       "{'status': 'Loop!', 'instruction': 1, 'accumulator': 5}"
      ]
     },
     "metadata": {},
     "execution_count": 3
    }
   ],
   "source": [
    "# Read the test instructions and compute\n",
    "instructions = read_instructions(\"test.txt\")\n",
    "compute(instructions)"
   ]
  },
  {
   "cell_type": "code",
   "execution_count": 4,
   "metadata": {},
   "outputs": [
    {
     "output_type": "execute_result",
     "data": {
      "text/plain": [
       "{'status': 'Loop!', 'instruction': 238, 'accumulator': 1753}"
      ]
     },
     "metadata": {},
     "execution_count": 4
    }
   ],
   "source": [
    "# Read the input instructions and compute\n",
    "instructions = read_instructions(\"input.txt\")\n",
    "compute(instructions)"
   ]
  },
  {
   "cell_type": "code",
   "execution_count": 5,
   "metadata": {},
   "outputs": [
    {
     "output_type": "stream",
     "name": "stdout",
     "text": [
      "{'status': 'Completed', 'instruction': 641, 'accumulator': 733}\n"
     ]
    }
   ],
   "source": [
    "instructions = read_instructions(\"input.txt\")\n",
    "\n",
    "# Iterate through the instructions\n",
    "for i in range(0, len(instructions)):\n",
    "    # Read a fresh copy of the instructions\n",
    "    instructions = read_instructions(\"input.txt\")\n",
    "\n",
    "    # Flip the instruction between jmp and nop\n",
    "    if instructions[i]['operator'] == 'jmp': instructions[i]['operator'] = 'nop'\n",
    "    elif instructions[i]['operator'] == 'nop': instructions[i]['operator'] = 'jmp'\n",
    "\n",
    "    # Find the result from this change\n",
    "    result = compute(instructions)\n",
    "\n",
    "    # If we were successful in running the full program, output those results\n",
    "    if result['status'] == 'Completed': print(result)"
   ]
  }
 ]
}