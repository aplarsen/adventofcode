{
 "cells": [
  {
   "cell_type": "code",
   "execution_count": 1,
   "metadata": {},
   "outputs": [],
   "source": [
    "# Read input file\n",
    "with open('input.txt') as f:\n",
    "    lines = f.read().split(\"\\n\")"
   ]
  },
  {
   "cell_type": "code",
   "execution_count": 2,
   "metadata": {},
   "outputs": [
    {
     "data": {
      "text/plain": [
       "286"
      ]
     },
     "execution_count": 2,
     "metadata": {},
     "output_type": "execute_result"
    }
   ],
   "source": [
    "# Initialize map with one iteration of the input\n",
    "map = lines[:]\n",
    "\n",
    "# Set rates for two axes\n",
    "rowrate = 1\n",
    "colrate = 3\n",
    "\n",
    "# Initialize counters for position and tree count\n",
    "row = 0\n",
    "col = 0\n",
    "trees = 0\n",
    "\n",
    "# Loop through the rows in our map\n",
    "while row < len(map):\n",
    "    # If this is a tree, increment our tree counter\n",
    "    if map[row][col] == '#': trees = trees + 1    \n",
    "    \n",
    "    # Proceed one step in the slope\n",
    "    row = row + rowrate\n",
    "    col = col + colrate\n",
    "    \n",
    "    # Check if we are about to slide off the right side of the map and add another copy of the input if needed\n",
    "    if col >= len(map[0]):\n",
    "        map = [ map[i] + lines[i] for i in range(0, len(lines)) ]\n",
    "        \n",
    "trees"
   ]
  },
  {
   "cell_type": "code",
   "execution_count": 3,
   "metadata": {},
   "outputs": [],
   "source": [
    "# Create a list of slopes, each with its own rates and tree count\n",
    "slopes = [    \n",
    "    {'colrate': 1, 'rowrate': 1, 'trees': 0},\n",
    "    {'colrate': 3, 'rowrate': 1, 'trees': 0},\n",
    "    {'colrate': 5, 'rowrate': 1, 'trees': 0},\n",
    "    {'colrate': 7, 'rowrate': 1, 'trees': 0},\n",
    "    {'colrate': 1, 'rowrate': 2, 'trees': 0}\n",
    "]"
   ]
  },
  {
   "cell_type": "code",
   "execution_count": 4,
   "metadata": {},
   "outputs": [
    {
     "data": {
      "text/plain": [
       "[{'colrate': 1, 'rowrate': 1, 'trees': 60},\n",
       " {'colrate': 3, 'rowrate': 1, 'trees': 286},\n",
       " {'colrate': 5, 'rowrate': 1, 'trees': 76},\n",
       " {'colrate': 7, 'rowrate': 1, 'trees': 62},\n",
       " {'colrate': 1, 'rowrate': 2, 'trees': 45}]"
      ]
     },
     "execution_count": 4,
     "metadata": {},
     "output_type": "execute_result"
    }
   ],
   "source": [
    "# Iterate through the slopes\n",
    "for slope in slopes:\n",
    "    # Initialize position counters\n",
    "    row = 0\n",
    "    col = 0    \n",
    "\n",
    "    # Loop through the rows in our map\n",
    "    while row < len(lines):    \n",
    "        # If this is a tree, increment the tree counter for this slope\n",
    "        if map[row][col] == '#': slope['trees'] = slope['trees'] + 1    \n",
    "\n",
    "        # Proceed one step in the slope\n",
    "        row = row + slope['rowrate']\n",
    "        col = col + slope['colrate']\n",
    "\n",
    "        # Check if we are about to slide off the right side of the map and add another copy of the input if needed\n",
    "        if col >= len(map[0]):\n",
    "            map = [ map[i] + lines[i] for i in range(0,len(lines)) ]\n",
    "\n",
    "# Check for good counts in each slope and compare the result for slope 2 to the original value above\n",
    "slopes"
   ]
  },
  {
   "cell_type": "code",
   "execution_count": 5,
   "metadata": {},
   "outputs": [
    {
     "data": {
      "text/plain": [
       "3638606400"
      ]
     },
     "execution_count": 5,
     "metadata": {},
     "output_type": "execute_result"
    }
   ],
   "source": [
    "import math\n",
    "\n",
    "# Get the product of the tree counts\n",
    "math.prod( [slope['trees'] for slope in slopes] )"
   ]
  }
 ],
 "metadata": {
  "kernelspec": {
   "display_name": "Python 3",
   "language": "python",
   "name": "python3"
  },
  "language_info": {
   "codemirror_mode": {
    "name": "ipython",
    "version": 3
   },
   "file_extension": ".py",
   "mimetype": "text/x-python",
   "name": "python",
   "nbconvert_exporter": "python",
   "pygments_lexer": "ipython3",
   "version": "3.8.1"
  }
 },
 "nbformat": 4,
 "nbformat_minor": 4
}