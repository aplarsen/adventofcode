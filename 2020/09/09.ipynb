{
 "metadata": {
  "language_info": {
   "codemirror_mode": {
    "name": "ipython",
    "version": 3
   },
   "file_extension": ".py",
   "mimetype": "text/x-python",
   "name": "python",
   "nbconvert_exporter": "python",
   "pygments_lexer": "ipython3",
   "version": "3.9.1-final"
  },
  "orig_nbformat": 2,
  "kernelspec": {
   "name": "python3",
   "display_name": "Python 3",
   "language": "python"
  }
 },
 "nbformat": 4,
 "nbformat_minor": 2,
 "cells": [
  {
   "cell_type": "code",
   "execution_count": 1,
   "metadata": {},
   "outputs": [],
   "source": [
    "import numpy as np\n",
    "import itertools"
   ]
  },
  {
   "cell_type": "code",
   "execution_count": 2,
   "metadata": {},
   "outputs": [],
   "source": [
    "# Function for finding numbers that are not a sum of previous numbers\n",
    "def find_numbers(file, preamble):\n",
    "    # Read numbers into numpy array\n",
    "    with open(file) as f:\n",
    "        numbers = np.array( [int(x) for x in f.read().split(\"\\n\")] )\n",
    "\n",
    "    # Initialize a list of found numbers.  Should only be one based on puzzle description.\n",
    "    found = []\n",
    "\n",
    "    # Iterate through numbers list, skipping the preamble\n",
    "    for i in range(preamble, len(numbers)):\n",
    "        # See if this number can be produced by summing any two numbers in lookback section\n",
    "        # Use itertools to simplify finding all of the 2-number combinations in the lookback\n",
    "        if numbers[i] in [sum(x) for x in itertools.combinations(numbers[i-preamble:i], 2)]:\n",
    "            # Add this number to our list of numbers that pass the test\n",
    "            found.append( numbers[i] )\n",
    "\n",
    "    # Return a np array of number that did not pass this test\n",
    "    return numbers[preamble:][ ~np.isin(numbers[preamble:], found) ]"
   ]
  },
  {
   "cell_type": "code",
   "execution_count": 3,
   "metadata": {},
   "outputs": [
    {
     "output_type": "execute_result",
     "data": {
      "text/plain": [
       "array([127])"
      ]
     },
     "metadata": {},
     "execution_count": 3
    }
   ],
   "source": [
    "find_numbers(\"test.txt\", 5)"
   ]
  },
  {
   "cell_type": "code",
   "execution_count": 4,
   "metadata": {},
   "outputs": [
    {
     "output_type": "execute_result",
     "data": {
      "text/plain": [
       "array([22406676], dtype=int64)"
      ]
     },
     "metadata": {},
     "execution_count": 4
    }
   ],
   "source": [
    "find_numbers(\"input.txt\", 25)"
   ]
  },
  {
   "cell_type": "code",
   "execution_count": 5,
   "metadata": {},
   "outputs": [],
   "source": [
    "# Function for finding the encryption weakness\n",
    "def find_weaknesses(file, preamble, target):\n",
    "    # Read the numbers into a list\n",
    "    with open(file) as f:\n",
    "        numbers = [int(x) for x in f.read().split(\"\\n\")]\n",
    "\n",
    "    # Initialize an empty list of weaknesses.  Each entry will be a sequence of numbers.  \n",
    "    # Should only be one based on puzzle description.\n",
    "    weaknesses = []\n",
    "\n",
    "    # Iterate through all numbers in the input\n",
    "    for i in range(0, len(numbers)):\n",
    "        # Iterate through remaining numbers to produce larger sequences\n",
    "        for j in range(i+2, len(numbers)):\n",
    "            # Check if the sum of the sequence is the target number.  Add it to the list of weaknesses.\n",
    "            if sum( numbers[i:j] ) == target:\n",
    "                weaknesses.append( numbers[i:j] )\n",
    "                break\n",
    "\n",
    "    # Return the list, the min/max, and the sum of the  min/max.  The final element in the tuple is the puzzle solution.\n",
    "    return [ (x, min(x), max(x), min(x) + max(x)) for x in weaknesses]"
   ]
  },
  {
   "cell_type": "code",
   "execution_count": 6,
   "metadata": {},
   "outputs": [
    {
     "output_type": "execute_result",
     "data": {
      "text/plain": [
       "[([15, 25, 47, 40], 15, 47, 62)]"
      ]
     },
     "metadata": {},
     "execution_count": 6
    }
   ],
   "source": [
    "find_weaknesses(\"test.txt\", 5, 127)"
   ]
  },
  {
   "cell_type": "code",
   "execution_count": 7,
   "metadata": {},
   "outputs": [
    {
     "output_type": "execute_result",
     "data": {
      "text/plain": [
       "[([931988,\n",
       "   1334260,\n",
       "   1147386,\n",
       "   1096740,\n",
       "   1207681,\n",
       "   1127754,\n",
       "   1282471,\n",
       "   1186911,\n",
       "   1304589,\n",
       "   1278374,\n",
       "   1334255,\n",
       "   1446638,\n",
       "   1356373,\n",
       "   1360470,\n",
       "   1420423,\n",
       "   2010399,\n",
       "   1579964],\n",
       "  931988,\n",
       "  2010399,\n",
       "  2942387)]"
      ]
     },
     "metadata": {},
     "execution_count": 7
    }
   ],
   "source": [
    "find_weaknesses(\"input.txt\", 25, 22406676)"
   ]
  }
 ]
}