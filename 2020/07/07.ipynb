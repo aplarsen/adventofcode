{
 "metadata": {
  "language_info": {
   "codemirror_mode": {
    "name": "ipython",
    "version": 3
   },
   "file_extension": ".py",
   "mimetype": "text/x-python",
   "name": "python",
   "nbconvert_exporter": "python",
   "pygments_lexer": "ipython3",
   "version": "3.9.1-final"
  },
  "orig_nbformat": 2,
  "kernelspec": {
   "name": "python3",
   "display_name": "Python 3",
   "language": "python"
  }
 },
 "nbformat": 4,
 "nbformat_minor": 2,
 "cells": [
  {
   "cell_type": "code",
   "execution_count": 1,
   "metadata": {},
   "outputs": [],
   "source": [
    "import re"
   ]
  },
  {
   "cell_type": "code",
   "execution_count": 2,
   "metadata": {},
   "outputs": [],
   "source": [
    "# Function for converting the rules input to a linked dict of bags\n",
    "def rules2bags(rules):\n",
    "    bags = {}\n",
    "\n",
    "    for rule in rules:\n",
    "        matches = re.search(r'(\\w+ \\w+) bags contain ', rule)\n",
    "        color = matches.groups(0)[0]\n",
    "\n",
    "        matches = re.findall(f'(\\d+) (\\w+ \\w+)', rule)\n",
    "\n",
    "        bags[color] = {'children': matches, 'parents': set()}\n",
    "\n",
    "    for key, items in bags.items():\n",
    "        for child in items['children']:\n",
    "            bags[ child[1] ]['parents'].add(key)\n",
    "    \n",
    "    return bags"
   ]
  },
  {
   "cell_type": "code",
   "execution_count": 3,
   "metadata": {},
   "outputs": [],
   "source": [
    "# Recursive function for returning list of all parents of a bag\n",
    "def parents(color):\n",
    "    if not len( bags[color]['parents'] ):\n",
    "        return []\n",
    "    else:\n",
    "        ps = []\n",
    "        for parent in bags[color]['parents']:            \n",
    "            ps = ps + [parent] + parents(parent)\n",
    "        return ps"
   ]
  },
  {
   "cell_type": "code",
   "execution_count": 4,
   "metadata": {},
   "outputs": [
    {
     "output_type": "execute_result",
     "data": {
      "text/plain": [
       "4"
      ]
     },
     "metadata": {},
     "execution_count": 4
    }
   ],
   "source": [
    "# Read test file and output parent count\n",
    "with open('test.txt') as f:\n",
    "    bags = rules2bags(f.readlines())\n",
    "len( set(parents('shiny gold')) )"
   ]
  },
  {
   "cell_type": "code",
   "execution_count": 5,
   "metadata": {},
   "outputs": [
    {
     "output_type": "execute_result",
     "data": {
      "text/plain": [
       "302"
      ]
     },
     "metadata": {},
     "execution_count": 5
    }
   ],
   "source": [
    "# Read input file and output parent count\n",
    "with open('input.txt') as f:\n",
    "    bags = rules2bags(f.readlines())\n",
    "len( set(parents('shiny gold')) )"
   ]
  },
  {
   "cell_type": "code",
   "execution_count": 6,
   "metadata": {},
   "outputs": [],
   "source": [
    "# Recursive function for returning counts of children of a bag\n",
    "def children(color):\n",
    "    if not len( bags[color]['children'] ):\n",
    "        return 0\n",
    "    else:\n",
    "        sum = 0\n",
    "        for child in bags[color]['children']:\n",
    "            sum = sum + int(child[0]) + int(child[0]) * children(child[1])\n",
    "        \n",
    "        return sum"
   ]
  },
  {
   "cell_type": "code",
   "execution_count": 7,
   "metadata": {},
   "outputs": [
    {
     "output_type": "execute_result",
     "data": {
      "text/plain": [
       "32"
      ]
     },
     "metadata": {},
     "execution_count": 7
    }
   ],
   "source": [
    "# Read test file and output child count\n",
    "with open('test.txt') as f:\n",
    "    bags = rules2bags(f.readlines())\n",
    "\n",
    "children('shiny gold')"
   ]
  },
  {
   "cell_type": "code",
   "execution_count": 8,
   "metadata": {},
   "outputs": [
    {
     "output_type": "execute_result",
     "data": {
      "text/plain": [
       "4165"
      ]
     },
     "metadata": {},
     "execution_count": 8
    }
   ],
   "source": [
    "# Read input file and output child count\n",
    "with open('input.txt') as f:\n",
    "    bags = rules2bags(f.readlines())\n",
    "\n",
    "children('shiny gold')"
   ]
  }
 ]
}