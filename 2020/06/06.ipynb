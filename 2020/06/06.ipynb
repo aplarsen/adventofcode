{
 "metadata": {
  "language_info": {
   "codemirror_mode": {
    "name": "ipython",
    "version": 3
   },
   "file_extension": ".py",
   "mimetype": "text/x-python",
   "name": "python",
   "nbconvert_exporter": "python",
   "pygments_lexer": "ipython3",
   "version": "3.8.1-final"
  },
  "orig_nbformat": 2,
  "kernelspec": {
   "name": "python3",
   "display_name": "Python 3"
  }
 },
 "nbformat": 4,
 "nbformat_minor": 2,
 "cells": [
  {
   "cell_type": "code",
   "execution_count": 55,
   "metadata": {},
   "outputs": [],
   "source": [
    "# Function for converting a group into a count of unique questions\n",
    "def questions(group):\n",
    "    questions = set()\n",
    "    for person in group:\n",
    "        for question in person:\n",
    "            questions.add(question)\n",
    "    return len(questions)"
   ]
  },
  {
   "cell_type": "code",
   "execution_count": 56,
   "metadata": {},
   "outputs": [
    {
     "output_type": "execute_result",
     "data": {
      "text/plain": [
       "11"
      ]
     },
     "metadata": {},
     "execution_count": 56
    }
   ],
   "source": [
    "# Read test file.  Split groups by double-newline, people by newline\n",
    "with open('test.txt') as f:\n",
    "    groups = [ group.split(\"\\n\") for group in f.read().split(\"\\n\\n\") ]\n",
    "\n",
    "# Output sum of question counts\n",
    "sum([ questions(group) for group in groups ])"
   ]
  },
  {
   "cell_type": "code",
   "execution_count": 57,
   "metadata": {},
   "outputs": [
    {
     "output_type": "execute_result",
     "data": {
      "text/plain": [
       "6521"
      ]
     },
     "metadata": {},
     "execution_count": 57
    }
   ],
   "source": [
    "# Read input file.  Split groups by double-newline, people by newline\n",
    "with open('input.txt') as f:\n",
    "    groups = [ group.split(\"\\n\") for group in f.read().split(\"\\n\\n\") ]\n",
    "\n",
    "# Output sum of question counts\n",
    "sum([ questions(group) for group in groups ])"
   ]
  },
  {
   "cell_type": "code",
   "execution_count": 58,
   "metadata": {},
   "outputs": [],
   "source": [
    "# Function for converting a group into a count of unique questions\n",
    "def commonquestions(group):\n",
    "    # Start with questions for person 0\n",
    "    questions = [char for char in group[0]]\n",
    "    \n",
    "    # Loop through remaning people in group\n",
    "    for person in group[1:]:\n",
    "        # Filter out questions that were not endorsed by this person\n",
    "        questions = list(filter(lambda x: x in person, questions))\n",
    "\n",
    "    # Return length of common questions\n",
    "    return len(questions)"
   ]
  },
  {
   "cell_type": "code",
   "execution_count": 59,
   "metadata": {},
   "outputs": [
    {
     "output_type": "execute_result",
     "data": {
      "text/plain": [
       "6"
      ]
     },
     "metadata": {},
     "execution_count": 59
    }
   ],
   "source": [
    "# Read test file.  Split groups by double-newline, people by newline\n",
    "with open('test.txt') as f:\n",
    "    groups = [ group.split(\"\\n\") for group in f.read().split(\"\\n\\n\") ]\n",
    "\n",
    "# Output sum of commonquestion counts\n",
    "sum([ commonquestions(group) for group in groups ])"
   ]
  },
  {
   "cell_type": "code",
   "execution_count": 60,
   "metadata": {},
   "outputs": [
    {
     "output_type": "execute_result",
     "data": {
      "text/plain": [
       "3305"
      ]
     },
     "metadata": {},
     "execution_count": 60
    }
   ],
   "source": [
    "# Read test file.  Split groups by double-newline, people by newline\n",
    "with open('input.txt') as f:\n",
    "    groups = [ group.split(\"\\n\") for group in f.read().split(\"\\n\\n\") ]\n",
    "\n",
    "# Output sum of commonquestion counts\n",
    "sum([ commonquestions(group) for group in groups ])"
   ]
  }
 ]
}