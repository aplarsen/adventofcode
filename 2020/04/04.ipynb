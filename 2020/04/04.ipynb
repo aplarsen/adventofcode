{
 "metadata": {
  "language_info": {
   "codemirror_mode": {
    "name": "ipython",
    "version": 3
   },
   "file_extension": ".py",
   "mimetype": "text/x-python",
   "name": "python",
   "nbconvert_exporter": "python",
   "pygments_lexer": "ipython3",
   "version": "3.8.1-final"
  },
  "orig_nbformat": 2,
  "kernelspec": {
   "name": "python3",
   "display_name": "Python 3"
  }
 },
 "nbformat": 4,
 "nbformat_minor": 2,
 "cells": [
  {
   "cell_type": "code",
   "execution_count": 1,
   "metadata": {},
   "outputs": [],
   "source": [
    "# Read input file.  Split passports by double-newline\n",
    "with open('input.txt') as f:\n",
    "    passports = f.read().split(\"\\n\\n\")"
   ]
  },
  {
   "cell_type": "code",
   "execution_count": 2,
   "metadata": {},
   "outputs": [],
   "source": [
    "import re"
   ]
  },
  {
   "cell_type": "code",
   "execution_count": 3,
   "metadata": {},
   "outputs": [],
   "source": [
    "# Split each passport into a dictionary.  First split the fields by whitespace, then split each of those by : to get key/value pairs into a dictionary\n",
    "passports = [ dict(datum.split(\":\") for datum in re.split(r'\\s', passport)) for passport in passports ]"
   ]
  },
  {
   "cell_type": "code",
   "execution_count": 4,
   "metadata": {},
   "outputs": [
    {
     "output_type": "execute_result",
     "data": {
      "text/plain": [
       "[{'iyr': '1928',\n",
       "  'cid': '150',\n",
       "  'pid': '476113241',\n",
       "  'eyr': '2039',\n",
       "  'hcl': 'a5ac0f',\n",
       "  'ecl': '#25f8d2',\n",
       "  'byr': '2027',\n",
       "  'hgt': '190'},\n",
       " {'hgt': '168cm',\n",
       "  'eyr': '2026',\n",
       "  'ecl': 'hzl',\n",
       "  'hcl': '#fffffd',\n",
       "  'cid': '169',\n",
       "  'pid': '920076943',\n",
       "  'byr': '1929',\n",
       "  'iyr': '2013'}]"
      ]
     },
     "metadata": {},
     "execution_count": 4
    }
   ],
   "source": [
    "# Check the first two passports for structure\n",
    "passports[:2]"
   ]
  },
  {
   "cell_type": "code",
   "execution_count": 5,
   "metadata": {},
   "outputs": [
    {
     "output_type": "execute_result",
     "data": {
      "text/plain": [
       "190"
      ]
     },
     "metadata": {},
     "execution_count": 5
    }
   ],
   "source": [
    "# Count the number of passports that have all of the required keys\n",
    "sum([ all(datum in passport.keys() for datum in ['byr','iyr','eyr','hgt','hcl','ecl','pid']) for passport in passports ])"
   ]
  },
  {
   "cell_type": "code",
   "execution_count": 6,
   "metadata": {},
   "outputs": [],
   "source": [
    "# Function to check the advanced logic of Part 2\n",
    "def check(passport):\n",
    "    if not all(datum in passport.keys() for datum in ['byr','iyr','eyr','hgt','hcl','ecl','pid']): return False\n",
    "\n",
    "    # Birth Year\n",
    "    if len(passport['byr']) != 4: return False\n",
    "    if int(passport['byr']) < 1920: return False\n",
    "    if int(passport['byr']) > 2020: return False\n",
    "\n",
    "    # Issue Year\n",
    "    if len(passport['iyr']) != 4: return False\n",
    "    if int(passport['iyr']) < 2010: return False\n",
    "    if int(passport['iyr']) > 2020: return False\n",
    "\n",
    "    # Expiration Year\n",
    "    if len(passport['eyr']) != 4: return False\n",
    "    if int(passport['eyr']) < 2020: return False\n",
    "    if int(passport['eyr']) > 2030: return False\n",
    "\n",
    "    # Height\n",
    "    match = re.search( r'(\\d+)(in|cm)$', passport['hgt'])\n",
    "    if not match: return False\n",
    "    height, unit = match.groups()\n",
    "    height = int(height)    \n",
    "    if unit == 'cm' and (height < 150 or height > 193): return False\n",
    "    if unit == 'in' and (height <  59 or height >  76): return False\n",
    "\n",
    "    # Hair Color\n",
    "    if not re.match( r'#[0-9abcdef]{6}$', passport['hcl'] ): return False\n",
    "\n",
    "    # Eye Color\n",
    "    if not (passport['ecl'] in ['amb', 'blu', 'brn', 'gry', 'grn', 'hzl', 'oth']): return False\n",
    "\n",
    "    # Passport ID\n",
    "    if not re.match( r'[0-9]{9}$', passport['pid'] ): return False\n",
    "\n",
    "    # Failing none of the tests, return True\n",
    "    return True"
   ]
  },
  {
   "cell_type": "code",
   "execution_count": 7,
   "metadata": {},
   "outputs": [
    {
     "output_type": "stream",
     "name": "stdout",
     "text": [
      "invalid: 0 of 4\nvalid: 4 of 4\ninput: 121 of 254\n"
     ]
    }
   ],
   "source": [
    "# Iterate through the two tests and the full input\n",
    "for file in ['invalid', 'valid', 'input']:\n",
    "    # Read input file.  Split passports by double-newline\n",
    "    with open( f'{file}.txt') as f:\n",
    "        passports = f.read().split(\"\\n\\n\")\n",
    "\n",
    "    # Split each passport into a dictionary.  First split the fields by whitespace, then split each of those by : to get key/value pairs into a dictionary\n",
    "    passports = [ dict(datum.split(\":\") for datum in re.split(r'\\s', passport)) for passport in passports ]\n",
    "\n",
    "    # Output the name of the file we're checking and the result of the checks\n",
    "    print( f'{file}: {sum(map(check, passports))} of {len(passports)}' )"
   ]
  }
 ]
}