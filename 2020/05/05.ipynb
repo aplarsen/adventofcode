{
 "metadata": {
  "language_info": {
   "codemirror_mode": {
    "name": "ipython",
    "version": 3
   },
   "file_extension": ".py",
   "mimetype": "text/x-python",
   "name": "python",
   "nbconvert_exporter": "python",
   "pygments_lexer": "ipython3",
   "version": "3.8.1-final"
  },
  "orig_nbformat": 2,
  "kernelspec": {
   "name": "python3",
   "display_name": "Python 3"
  }
 },
 "nbformat": 4,
 "nbformat_minor": 2,
 "cells": [
  {
   "cell_type": "code",
   "execution_count": 35,
   "metadata": {},
   "outputs": [],
   "source": [
    "# Function to convert a boarding pass into a seatid\n",
    "def seatid(boardingpass):    \n",
    "    # Initialize rows and columns\n",
    "    rows = list(range(0,128))\n",
    "    columns = list(range(0,8))\n",
    "\n",
    "    # Loop through boardingpass's characters\n",
    "    for char in boardingpass:\n",
    "        # Split rows in half if F or B\n",
    "        if char in ('F','B'):\n",
    "            if char == 'F': rows = rows[:int(len(rows)/2)]\n",
    "            if char == 'B': rows = rows[int(len(rows)/2):]\n",
    "\n",
    "        # Split cols in half if L or R\n",
    "        if char in ('L','R'):\n",
    "            if char == 'L': columns = columns[:int(len(columns)/2)]\n",
    "            if char == 'R': columns = columns[int(len(columns)/2):]\n",
    "\n",
    "    # Return seatid\n",
    "    return (rows[0]*8 + columns[0])"
   ]
  },
  {
   "cell_type": "code",
   "execution_count": 36,
   "metadata": {},
   "outputs": [
    {
     "output_type": "stream",
     "name": "stdout",
     "text": [
      "357\n567\n119\n820\n"
     ]
    }
   ],
   "source": [
    "# Unit test for sample data\n",
    "for boardingpass in ['FBFBBFFRLR','BFFFBBFRRR','FFFBBBFRRR','BBFFBBFRLL']:\n",
    "    print(seatid(boardingpass))  "
   ]
  },
  {
   "cell_type": "code",
   "execution_count": 37,
   "metadata": {},
   "outputs": [
    {
     "output_type": "execute_result",
     "data": {
      "text/plain": [
       "978"
      ]
     },
     "metadata": {},
     "execution_count": 37
    }
   ],
   "source": [
    "# Open input file\n",
    "with open('input.txt') as f:\n",
    "    boardingpasses = f.read().split(\"\\n\")\n",
    "\n",
    "# Create list of seatids from boardingpasses\n",
    "seatids = [ seatid(boardingpass) for boardingpass in boardingpasses ]\n",
    "\n",
    "# Output max seatid\n",
    "max(seatids)"
   ]
  },
  {
   "cell_type": "code",
   "execution_count": 38,
   "metadata": {},
   "outputs": [
    {
     "output_type": "execute_result",
     "data": {
      "text/plain": [
       "[727]"
      ]
     },
     "metadata": {},
     "execution_count": 38
    }
   ],
   "source": [
    "# Filter list of seatids using three criteria\n",
    "list(filter( lambda x: (not x in seatids) and (x-1 in seatids) and (x+1 in seatids), range(0, max(seatids)) ))"
   ]
  }
 ]
}